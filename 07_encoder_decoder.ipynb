{
 "cells": [
  {
   "cell_type": "markdown",
   "metadata": {},
   "source": [
    "# Encoder-Decoder Architecture (Machine Translation Example)\n",
    "\n",
    "In the previous example, we saw the primitive text generation example with RNN, in which each word is selected only by the previous sequence of words.<br>\n",
    "But, in real text generation, the word will be often decided with other information (context) - i.e, conditioned text generation.\n",
    "\n",
    "Let's see the following architecture.<br>\n",
    "In this architecture, the word is selected by both the sequence of words and context information ```c```.<br>\n",
    "For instance, when it generates text for movie review, the conditioned context ```c``` might be a movie. When it generates the answer for questioning, it might be genre - such as, \"computer science\", \"sports\", \"politics\", etc. It will then be able to generate more appropriate text depending on the genre (theme) of the contents. \n",
    "\n",
    "![RNN with conditioned context](./images/conditioned_context.png)\n",
    "\n",
    "The encoder-decoder framework is a trainer for text generation with **sequence-to-sequence** conditioned context as follows. (See the following diagram.)\n",
    "\n",
    "For instance, when you want to translate French to English, first it generates conditioned context ```c``` from a source sentence (which is the sequence of length m).<br>\n",
    "This is called **encoder**, and the encoder summarizes a French sentence as a context vector ```c```.<br>\n",
    "Next it will predict English sentence (which is the sequence of length n) using the generated context ```c```, and this is called **decoder**.<br>\n",
    "As you can see below, the source length (m) and target length (n) might differ in this training.\n",
    "\n",
    "![encoder-decoder architecture](./images/encoder_decoder.png)\n",
    "\n",
    "This encoder-decoder architecture can be used in forms of sequence-to-sequence problems, and is used in a lot of scenarios, such as, auto-response (smart reply or question-answering), inflection, image captioning, etc. (In image captioning task, an image input will be encoded as a vector with convolution network.)<br>\n",
    "It can also be used for generating a vector representation (in which encoder-decoder is trained to reconstruct the input sentence) or text generation, both which have been seen in the previous examples.<br>\n",
    "A variety of today's language tasks depends on encoder-decoder architecture and attention, which will be discussed in the next example.\n",
    "\n",
    "In this example, I'll implement simple sequence-to-sequence trainer in machine translation task. Here I only use encoder-decoder framework and I note that the result might not be so good.<br>\n",
    "In the next tutorial, we'll add more sophisticated architecture \"attention\" (also, widely used in today's NLP) in this encoder-decoder model.\n",
    "\n",
    "*back to [index](https://github.com/tsmatz/nlp-tutorials/)*"
   ]
  },
  {
   "cell_type": "markdown",
   "metadata": {},
   "source": [
    "## Install required packages"
   ]
  },
  {
   "cell_type": "code",
   "execution_count": null,
   "metadata": {},
   "outputs": [],
   "source": [
    "!pip install tensorflow==2.6.2 numpy nltk matplotlib"
   ]
  },
  {
   "cell_type": "markdown",
   "metadata": {},
   "source": [
    "## Prepare data"
   ]
  },
  {
   "cell_type": "markdown",
   "metadata": {},
   "source": [
    "In this example, I use Engligh-French dataset by [Anki](https://www.manythings.org/anki/)."
   ]
  },
  {
   "cell_type": "code",
   "execution_count": 1,
   "metadata": {},
   "outputs": [
    {
     "name": "stdout",
     "output_type": "stream",
     "text": [
      "--2022-09-02 21:11:54--  http://www.manythings.org/anki/fra-eng.zip\n",
      "Resolving www.manythings.org (www.manythings.org)... 173.254.30.110\n",
      "Connecting to www.manythings.org (www.manythings.org)|173.254.30.110|:80... connected.\n",
      "HTTP request sent, awaiting response... 200 OK\n",
      "Length: 6612164 (6.3M) [application/zip]\n",
      "Saving to: ‘fra-eng.zip’\n",
      "\n",
      "fra-eng.zip         100%[===================>]   6.31M  8.38MB/s    in 0.8s    \n",
      "\n",
      "2022-09-02 21:11:56 (8.38 MB/s) - ‘fra-eng.zip’ saved [6612164/6612164]\n",
      "\n"
     ]
    }
   ],
   "source": [
    "!wget http://www.manythings.org/anki/fra-eng.zip"
   ]
  },
  {
   "cell_type": "code",
   "execution_count": 2,
   "metadata": {},
   "outputs": [
    {
     "name": "stdout",
     "output_type": "stream",
     "text": [
      "Archive:  fra-eng.zip\n",
      "  inflating: fra-eng/_about.txt      \n",
      "  inflating: fra-eng/fra.txt         \n"
     ]
    }
   ],
   "source": [
    "!unzip fra-eng.zip -d fra-eng"
   ]
  },
  {
   "cell_type": "code",
   "execution_count": 3,
   "metadata": {},
   "outputs": [
    {
     "name": "stdout",
     "output_type": "stream",
     "text": [
      "Go.\tVa !\tCC-BY 2.0 (France) Attribution: tatoeba.org #2877272 (CM) & #1158250 (Wittydev)\r\n",
      "Go.\tMarche.\tCC-BY 2.0 (France) Attribution: tatoeba.org #2877272 (CM) & #8090732 (Micsmithel)\r\n",
      "Go.\tBouge !\tCC-BY 2.0 (France) Attribution: tatoeba.org #2877272 (CM) & #9022935 (Micsmithel)\r\n",
      "Hi.\tSalut !\tCC-BY 2.0 (France) Attribution: tatoeba.org #538123 (CM) & #509819 (Aiji)\r\n",
      "Hi.\tSalut.\tCC-BY 2.0 (France) Attribution: tatoeba.org #538123 (CM) & #4320462 (gillux)\r\n"
     ]
    }
   ],
   "source": [
    "!head -n 5 fra-eng/fra.txt"
   ]
  },
  {
   "cell_type": "code",
   "execution_count": 4,
   "metadata": {},
   "outputs": [
    {
     "name": "stdout",
     "output_type": "stream",
     "text": [
      "194513 fra-eng/fra.txt\r\n"
     ]
    }
   ],
   "source": [
    "!wc -l fra-eng/fra.txt"
   ]
  },
  {
   "cell_type": "code",
   "execution_count": 1,
   "metadata": {},
   "outputs": [
    {
     "data": {
      "text/plain": [
       "array(['Va !', 'Go.'], dtype='<U349')"
      ]
     },
     "execution_count": 1,
     "metadata": {},
     "output_type": "execute_result"
    }
   ],
   "source": [
    "from pathlib import Path\n",
    "import numpy as np\n",
    "\n",
    "pathobj = Path(\"fra-eng/fra.txt\")\n",
    "text_all = pathobj.read_text(encoding=\"utf-8\")\n",
    "lines = text_all.splitlines()\n",
    "train_data = [line.split(\"\\t\") for line in lines]\n",
    "train_data = np.array(train_data)[:,[1,0]]\n",
    "# print first row\n",
    "train_data[0]"
   ]
  },
  {
   "cell_type": "markdown",
   "metadata": {},
   "source": [
    "In this training set, text length in the latter part is longer (and includes multiple sentences) than the former part.<br>\n",
    "Therefore I shuffle entire data."
   ]
  },
  {
   "cell_type": "code",
   "execution_count": 2,
   "metadata": {},
   "outputs": [
    {
     "data": {
      "text/plain": [
       "array([\"Ce n'était pas possible.\", \"That wasn't possible.\"], dtype='<U349')"
      ]
     },
     "execution_count": 2,
     "metadata": {},
     "output_type": "execute_result"
    }
   ],
   "source": [
    "np.random.shuffle(train_data)\n",
    "train_data[0]"
   ]
  },
  {
   "cell_type": "markdown",
   "metadata": {},
   "source": [
    "When data consists of multiple sentences, it converts to a single sentence."
   ]
  },
  {
   "cell_type": "code",
   "execution_count": 3,
   "metadata": {},
   "outputs": [
    {
     "name": "stderr",
     "output_type": "stream",
     "text": [
      "[nltk_data] Downloading package punkt to /home/tsmatsuz/nltk_data...\n",
      "[nltk_data]   Package punkt is already up-to-date!\n"
     ]
    }
   ],
   "source": [
    "import nltk\n",
    "import nltk.data\n",
    "\n",
    "nltk.download(\"punkt\")\n",
    "tokenizer_en = nltk.data.load(\"tokenizers/punkt/english.pickle\")\n",
    "tokenizer_fr = nltk.data.load(\"tokenizers/punkt/french.pickle\")\n",
    "fr_list = []\n",
    "en_list = []\n",
    "for x in train_data:\n",
    "    x1 = tokenizer_fr.tokenize(x[0])\n",
    "    x2 = tokenizer_en.tokenize(x[1])\n",
    "    if len(x1) == len(x2):\n",
    "        fr_list += x1\n",
    "        en_list += x2\n",
    "train_data = np.column_stack((fr_list, en_list))"
   ]
  },
  {
   "cell_type": "markdown",
   "metadata": {},
   "source": [
    "To get the better performance (accuracy), I standarize the input text as follows.\n",
    "- Make all words to lowercase in order to reduce words\n",
    "- Make \"-\" (hyphen) to space\n",
    "- Remove all punctuation except \" ' \" (e.g, Ken's bag, ces't, ...)\n",
    "\n",
    "> Note : To make simplify, I have skipped other pre-processing, such as, N-gram detection (see [this example](./04_ngram_cnn.ipynb)), polysemy processing, etc."
   ]
  },
  {
   "cell_type": "code",
   "execution_count": 4,
   "metadata": {},
   "outputs": [
    {
     "data": {
      "text/plain": [
       "array([\"ce n'était pas possible\", \"that wasn't possible\"], dtype='<U250')"
      ]
     },
     "execution_count": 4,
     "metadata": {},
     "output_type": "execute_result"
    }
   ],
   "source": [
    "import string\n",
    "\n",
    "train_data = np.char.lower(train_data)\n",
    "train_data = np.char.replace(train_data, \"-\", \" \")\n",
    "for x in string.punctuation.replace(\"'\", \"\"):\n",
    "    train_data = np.char.replace(train_data, x, \"\")\n",
    "for x in \"«»\":\n",
    "    train_data = np.char.replace(train_data, x, \"\")\n",
    "train_data = np.char.strip(train_data)\n",
    "# print first row\n",
    "train_data[0]"
   ]
  },
  {
   "cell_type": "markdown",
   "metadata": {},
   "source": [
    "Add ```[START]``` and ```[END]``` tokens in string."
   ]
  },
  {
   "cell_type": "code",
   "execution_count": 5,
   "metadata": {},
   "outputs": [
    {
     "data": {
      "text/plain": [
       "array([\"[START] ce n'était pas possible [END]\",\n",
       "       \"[START] that wasn't possible [END]\"], dtype='<U264')"
      ]
     },
     "execution_count": 5,
     "metadata": {},
     "output_type": "execute_result"
    }
   ],
   "source": [
    "train_data = np.array([[\" \".join([\"[START]\", x, \"[END]\"]), \" \".join([\"[START]\", y, \"[END]\"])] for x, y in train_data])\n",
    "# print first row\n",
    "train_data[0]"
   ]
  },
  {
   "cell_type": "markdown",
   "metadata": {},
   "source": [
    "## Generate sequence inputs\n",
    "\n",
    "We will generate the sequence of word's indices (i.e, tokenize) from text.\n",
    "\n",
    "![Index vectorize](images/index_vectorize2.png?raw=true)\n",
    "\n",
    "First, we build word's vectorizer for both source text (French) and target text (English) respectively."
   ]
  },
  {
   "cell_type": "code",
   "execution_count": 6,
   "metadata": {},
   "outputs": [],
   "source": [
    "import tensorflow as tf\n",
    "\n",
    "max_word = 10000\n",
    "\n",
    "source_vectorization = tf.keras.layers.TextVectorization(\n",
    "    max_tokens=max_word,\n",
    "    output_sequence_length=None, # maximum length of sequences\n",
    "    output_mode=\"int\")\n",
    "source_vectorization.adapt(train_data[:,0])\n",
    "\n",
    "target_vectorization = tf.keras.layers.TextVectorization(\n",
    "    max_tokens=max_word,\n",
    "    output_sequence_length=None, # maximum length of sequences\n",
    "    output_mode=\"int\")\n",
    "target_vectorization.adapt(train_data[:,1])"
   ]
  },
  {
   "cell_type": "markdown",
   "metadata": {},
   "source": [
    "Now we vectorize sentence into integer's sequence as follows.<br>\n",
    "In this example, we create fixed size of sequence (padded by 0) in each row.\n",
    "\n",
    "![Index vectorize](images/index_vectorize2.png?raw=true)"
   ]
  },
  {
   "cell_type": "code",
   "execution_count": 7,
   "metadata": {},
   "outputs": [
    {
     "name": "stdout",
     "output_type": "stream",
     "text": [
      "tf.Tensor(\n",
      "[  3  17 300   6 478   2   0   0   0   0   0   0   0   0   0   0   0   0\n",
      "   0   0   0   0   0   0   0   0   0   0   0   0   0   0   0   0   0   0\n",
      "   0   0   0   0   0   0   0   0   0], shape=(45,), dtype=int64)\n",
      "tf.Tensor(\n",
      "[  2  11 224 515   3   0   0   0   0   0   0   0   0   0   0   0   0   0\n",
      "   0   0   0   0   0   0   0   0   0   0   0   0   0   0   0   0   0   0\n",
      "   0   0], shape=(38,), dtype=int64)\n"
     ]
    }
   ],
   "source": [
    "train_source = source_vectorization(train_data[:,0])\n",
    "train_target = target_vectorization(train_data[:,1])\n",
    "# print first row\n",
    "print(train_source[0])\n",
    "print(train_target[0])"
   ]
  },
  {
   "cell_type": "markdown",
   "metadata": {},
   "source": [
    "Make TensorFlow dataset."
   ]
  },
  {
   "cell_type": "code",
   "execution_count": 8,
   "metadata": {},
   "outputs": [],
   "source": [
    "train_tf_data = tf.data.Dataset.from_tensor_slices((train_source, train_target))"
   ]
  },
  {
   "cell_type": "markdown",
   "metadata": {},
   "source": [
    "Now we generate label (y) for training.\n",
    "\n",
    "As I have mentioned above, we should finally predict the next word in target sentence (English) using current word and encoded context.<br>\n",
    "We then create the following label (y) in each row.\n",
    "\n",
    "<u>input - list of current words</u> :\n",
    "```\n",
    "[2, 7, 5, 3, 0, ... , 0]\n",
    "```\n",
    "\n",
    "<u>output (y) - list of next words</u> :\n",
    "```\n",
    "[7, 5, 3, 0, 0, ... , 0]\n",
    "```"
   ]
  },
  {
   "cell_type": "code",
   "execution_count": 9,
   "metadata": {},
   "outputs": [
    {
     "name": "stdout",
     "output_type": "stream",
     "text": [
      "***** X *****\n",
      "(<tf.Tensor: shape=(45,), dtype=int64, numpy=\n",
      "array([  3,  17, 300,   6, 478,   2,   0,   0,   0,   0,   0,   0,   0,\n",
      "         0,   0,   0,   0,   0,   0,   0,   0,   0,   0,   0,   0,   0,\n",
      "         0,   0,   0,   0,   0,   0,   0,   0,   0,   0,   0,   0,   0,\n",
      "         0,   0,   0,   0,   0,   0])>, <tf.Tensor: shape=(38,), dtype=int64, numpy=\n",
      "array([  2,  11, 224, 515,   3,   0,   0,   0,   0,   0,   0,   0,   0,\n",
      "         0,   0,   0,   0,   0,   0,   0,   0,   0,   0,   0,   0,   0,\n",
      "         0,   0,   0,   0,   0,   0,   0,   0,   0,   0,   0,   0])>)\n",
      "***** y *****\n",
      "tf.Tensor(\n",
      "[ 11 224 515   3   0   0   0   0   0   0   0   0   0   0   0   0   0   0\n",
      "   0   0   0   0   0   0   0   0   0   0   0   0   0   0   0   0   0   0\n",
      "   0   0], shape=(38,), dtype=int64)\n"
     ]
    }
   ],
   "source": [
    "def add_label(x_source, x_target):\n",
    "    y = tf.slice(x_target, begin=[1], size=[len(x_target) - 1])\n",
    "    y = tf.concat([y, [0]], axis=0)\n",
    "    return (x_source, x_target), y\n",
    "train_tf_data = train_tf_data.map(lambda src, tar: add_label(src, tar))\n",
    "# print first row\n",
    "for x, y in train_tf_data.take(1):\n",
    "    print(\"***** X *****\")\n",
    "    print(x)\n",
    "    print(\"***** y *****\")\n",
    "    print(y)"
   ]
  },
  {
   "cell_type": "markdown",
   "metadata": {},
   "source": [
    "Now we convert label y into one-hot vector (shape (max_word,)).\n",
    "\n",
    "y (before) :\n",
    "```\n",
    "[4, 1, 3, 0]\n",
    "```\n",
    "\n",
    "y (after) :\n",
    "```\n",
    "[\n",
    "  [0,0,0,0,1, ... ,0],\n",
    "  [0,1,0,0,0, ... ,0],\n",
    "  [0,0,0,1,0, ... ,0],\n",
    "  [1,0,0,0,0, ... ,0]\n",
    "]\n",
    "```"
   ]
  },
  {
   "cell_type": "code",
   "execution_count": 10,
   "metadata": {},
   "outputs": [
    {
     "name": "stdout",
     "output_type": "stream",
     "text": [
      "tf.Tensor(\n",
      "[[0. 0. 0. ... 0. 0. 0.]\n",
      " [0. 0. 0. ... 0. 0. 0.]\n",
      " [0. 0. 0. ... 0. 0. 0.]\n",
      " ...\n",
      " [1. 0. 0. ... 0. 0. 0.]\n",
      " [1. 0. 0. ... 0. 0. 0.]\n",
      " [1. 0. 0. ... 0. 0. 0.]], shape=(38, 10000), dtype=float32)\n"
     ]
    }
   ],
   "source": [
    "def to_one_hot(x, y):\n",
    "    y_new = tf.one_hot(y, depth=max_word)\n",
    "    return x, y_new\n",
    "train_tf_data = train_tf_data.map(lambda x, y: to_one_hot(x, y))\n",
    "# print y in first row\n",
    "for x, y in train_tf_data.take(1):\n",
    "    print(y)"
   ]
  },
  {
   "cell_type": "markdown",
   "metadata": {},
   "source": [
    "## Train with Encoder-Decoder\n",
    "\n",
    "Now we build a model with encoder-decoder architecture as follows.\n",
    "\n",
    "- Context is generated in encoder.\n",
    "- Context is concatenated with inputs (words) and passed into RNN layer.\n",
    "- RNN outputs (in all units in sequence) is passed into dense (FCNet) layer and generate the sequence of next words.\n",
    "- Calculate loss between predicted next words and the true values of next words, and then proceed to train.\n",
    "\n",
    "![the trainer architecture of machine translation](./images/machine_translation.png)"
   ]
  },
  {
   "cell_type": "markdown",
   "metadata": {},
   "source": [
    "First, we build encoder model.\n",
    "\n",
    "In the following ```tf.keras.layers.GRU``` layer, the shape of RNN input is expected to be ```(batch_size, sequence_length, input_dimension)```. By setting ```stateful=True```, the last state at index i in batch is used as initial state for index i in the following batch.<br>\n",
    "Here we then set ```stateful=False```. (Because the sequence in the following batch doesn't depend on the sequence in previous batch.)\n",
    "\n",
    "On this example, I note that only the last output in sequence is required in encoder model.<br>\n",
    "Therefore I set ```return_sequences=False``` in RNN (GRU layer).\n",
    "\n",
    "![final output in encoder](./images/encoder_final.png)\n",
    "\n",
    "Remind that the length of each sequence differs in each row and it's padded by zero.<br>\n",
    "Therefore, here I create mask, in which the element is TRUE when the word exists and FALSE when the word is missing.<br>\n",
    "By passing mask into RNN, the computation will be skipped at FALSE elements.\n",
    "\n",
    "> Note : You can also set encoder's final state as decoder's initial state.<br>\n",
    "> In this example, I'll discard encoder's final state in the model."
   ]
  },
  {
   "cell_type": "code",
   "execution_count": 11,
   "metadata": {},
   "outputs": [],
   "source": [
    "class Encoder(tf.keras.Model):\n",
    "    def __init__(self, vocab_size, embedding_dim, rnn_units):\n",
    "        super().__init__(self)\n",
    "        self.vocab_size = vocab_size\n",
    "\n",
    "        self.embedding = tf.keras.layers.Embedding(\n",
    "            self.vocab_size,\n",
    "            embedding_dim,\n",
    "            mask_zero=True,\n",
    "            trainable=True,\n",
    "        )\n",
    "        self.rnn = tf.keras.layers.GRU(\n",
    "            rnn_units,\n",
    "            use_bias=True,\n",
    "            return_sequences=False,  # see above !\n",
    "            return_state=True,\n",
    "            stateful=False,  # not to inherit states between batches\n",
    "            trainable=True,\n",
    "        )\n",
    "\n",
    "    def call(self, inputs, states=None, training=False, return_state=False):\n",
    "        inputs_emb = self.embedding(inputs, training=training)\n",
    "        mask = self.embedding.compute_mask(inputs)\n",
    "        if states is None:\n",
    "            outputs, new_states = self.rnn(inputs_emb, mask=mask, training=training)\n",
    "        else:\n",
    "            outputs, new_states = self.rnn(inputs_emb, mask=mask, initial_state=states, training=training)\n",
    "        if return_state:\n",
    "            return outputs, new_states  # This is used in prediction\n",
    "        else:\n",
    "            return outputs              # This is used in training"
   ]
  },
  {
   "cell_type": "markdown",
   "metadata": {},
   "source": [
    "Next we build decoder model.\n",
    "\n",
    "The decoder receives encoder's final output, and this is commonly used in all units in sequence.\n",
    "\n",
    "In each unit, encoder's final output (context) is concatenated with input (word embedding), as I have mentioned above.<br>\n",
    "The concatenated vector is then passed into RNN. The output of RNN is then passed into dense network (fully-connected network, FCNet) and it generates the next word's prediction.\n",
    "\n",
    "![the trainer architecture of machine translation](./images/machine_translation.png)\n",
    "\n",
    "Same as above, mask (this time, mask in target sequence) is passed into RNN and the computation will be skipped at the missing elements in sequence.\n",
    "\n",
    "> Note : Unlike encoder, ```return_sequences``` in RNN layer should be ```True```."
   ]
  },
  {
   "cell_type": "code",
   "execution_count": 12,
   "metadata": {},
   "outputs": [],
   "source": [
    "class Decoder(tf.keras.Model):\n",
    "    def __init__(self, vocab_size, embedding_dim, rnn_units):\n",
    "        super().__init__(self)\n",
    "        self.vocab_size = vocab_size\n",
    "\n",
    "        self.embedding = tf.keras.layers.Embedding(\n",
    "            self.vocab_size,\n",
    "            embedding_dim,\n",
    "            mask_zero=True,\n",
    "            trainable=True,\n",
    "        )\n",
    "        self.rnn = tf.keras.layers.GRU(\n",
    "            rnn_units,\n",
    "            use_bias=True,\n",
    "            return_sequences=True,\n",
    "            return_state=True,\n",
    "            stateful=False,  # not to inherit states between batches\n",
    "            trainable=True,\n",
    "        )\n",
    "        self.dense1 = tf.keras.layers.Dense(\n",
    "            rnn_units,\n",
    "            activation=\"relu\",\n",
    "        )\n",
    "        self.dense2 = tf.keras.layers.Dense(\n",
    "            self.vocab_size,\n",
    "            activation=None,\n",
    "        )\n",
    "\n",
    "    def call(self, inputs, states=None, training=False, return_state=False):\n",
    "        inputs_target, enc_outputs = inputs\n",
    "        # process embedding\n",
    "        inputs_emb = self.embedding(inputs_target, training=training)\n",
    "        # I note that the shape of enc_outputs is (batch_size, rnn_unit_size).\n",
    "        # Convert shape into (batch_size, sequence_size, rnn_unit_size) for concat\n",
    "        enc_outputs = tf.expand_dims(enc_outputs, axis=1) # expand shape to [batch_size, 1, rnn_unit_size]\n",
    "        sequence_size = tf.shape(inputs_target)[1]\n",
    "        enc_outputs = tf.tile(enc_outputs, multiples=[1,sequence_size,1]) # expand shape at axis=1\n",
    "        ctx_and_emb = tf.concat([enc_outputs, inputs_emb], axis=-1) # concat\n",
    "        # process rnn\n",
    "        mask = self.embedding.compute_mask(inputs_target)\n",
    "        if states is None:\n",
    "            rnn_outputs, new_states = self.rnn(ctx_and_emb, mask=mask, training=training)\n",
    "        else:\n",
    "            rnn_outputs, new_states = self.rnn(ctx_and_emb, mask=mask, initial_state=states, training=training)\n",
    "        # I note that dense is calculated for all outputs in sequence without masking\n",
    "        outputs = self.dense1(rnn_outputs, training=training)\n",
    "        outputs = self.dense2(outputs, training=training)\n",
    "        if return_state:\n",
    "            return outputs, mask, new_states  # This is used in prediction\n",
    "        else:\n",
    "            return outputs, mask              # This is used in training"
   ]
  },
  {
   "cell_type": "markdown",
   "metadata": {},
   "source": [
    "Now we put it all together and run training.\n",
    "\n",
    "I note that the loss computation is also masked. (i.e, The loss at missing words are ignored.)\n",
    "\n",
    "> Note : In the following example, I'm writing a training loop from scratch, but you can also build TensorFlow custom model for this implementation."
   ]
  },
  {
   "cell_type": "code",
   "execution_count": 13,
   "metadata": {},
   "outputs": [
    {
     "name": "stdout",
     "output_type": "stream",
     "text": [
      "Epoch 1/5 - loss   1.811149\n",
      "Epoch 2/5 - loss   0.975240\n",
      "Epoch 3/5 - loss   0.659642\n",
      "Epoch 4/5 - loss   0.472957\n",
      "Epoch 5/5 - loss   0.640757\n"
     ]
    }
   ],
   "source": [
    "embedding_dim = 256\n",
    "rnn_units = 1024\n",
    "n_epoch = 5\n",
    "shuffle_buffer_size = 5000\n",
    "train_batch_size = 64\n",
    "loss_records = []\n",
    "\n",
    "enc_model = Encoder(\n",
    "    vocab_size=max_word,\n",
    "    embedding_dim=embedding_dim,\n",
    "    rnn_units=rnn_units)\n",
    "dec_model = Decoder(\n",
    "    vocab_size=max_word,\n",
    "    embedding_dim=embedding_dim,\n",
    "    rnn_units=rnn_units)\n",
    "loss_func = tf.keras.losses.CategoricalCrossentropy(\n",
    "    from_logits=True,\n",
    "    reduction=tf.keras.losses.Reduction.NONE\n",
    ")\n",
    "opt = tf.keras.optimizers.Adam(learning_rate=0.001)\n",
    "\n",
    "### I don't use train_tf_data.repeat(n_epoch) and run shuffle in each epoch,\n",
    "### because I want to check result in each epoch\n",
    "for epoch in range(n_epoch):\n",
    "    tf_data_epoch = train_tf_data.shuffle(shuffle_buffer_size).batch(train_batch_size)\n",
    "    iterator = iter(tf_data_epoch)\n",
    "    while True:\n",
    "        with tf.GradientTape() as enc_tape, tf.GradientTape() as dec_tape:\n",
    "            # get next batch\n",
    "            try:\n",
    "                input_batch_x, input_batch_y = iterator.get_next()\n",
    "            except tf.errors.OutOfRangeError:\n",
    "                loop_f = False\n",
    "                break\n",
    "            input_source, input_target = input_batch_x\n",
    "            # process encoder\n",
    "            enc_outputs = enc_model(\n",
    "                input_source,\n",
    "                training=True)\n",
    "            # process decoder\n",
    "            logits, mask = dec_model(\n",
    "                (input_target , enc_outputs),\n",
    "                training=True)\n",
    "            # calculate masked loss\n",
    "            loss = loss_func(\n",
    "                input_batch_y,\n",
    "                logits) # shape of loss is (batch_size, sequence_size)\n",
    "            mask_float = tf.cast(mask, tf.float32) # True -> 1.0, False -> 0.0\n",
    "            loss = loss * mask_float\n",
    "            loss = tf.math.reduce_sum(loss, axis=1) # shape of loss is (batch_size, )\n",
    "            loss = loss / tf.math.reduce_sum(mask_float, axis=1)\n",
    "            # get gradient\n",
    "            grad = enc_tape.gradient(\n",
    "                loss,\n",
    "                enc_model.trainable_variables+dec_model.trainable_variables\n",
    "            )\n",
    "        # apply gradient\n",
    "        opt.apply_gradients(zip(grad, enc_model.trainable_variables+dec_model.trainable_variables))\n",
    "        # record result\n",
    "        batch_average_loss = tf.math.reduce_mean(loss).numpy().tolist()\n",
    "        print(\"Epoch {}/{} - loss {loss:10.6f}\".format(epoch+1, n_epoch, loss=batch_average_loss), end=\"\\r\")\n",
    "        loss_records.append(batch_average_loss)\n",
    "    # add line break\n",
    "    print(\"\")"
   ]
  },
  {
   "cell_type": "markdown",
   "metadata": {},
   "source": [
    "After the training has completed, show how loss is optimized."
   ]
  },
  {
   "cell_type": "code",
   "execution_count": 14,
   "metadata": {},
   "outputs": [
    {
     "data": {
      "text/plain": [
       "[<matplotlib.lines.Line2D at 0x7fc26c8d3f60>]"
      ]
     },
     "execution_count": 14,
     "metadata": {},
     "output_type": "execute_result"
    },
    {
     "data": {
      "image/png": "[encoded data removed]",
      "text/plain": [
       "<Figure size 432x288 with 1 Axes>"
      ]
     },
     "metadata": {
      "needs_background": "light"
     },
     "output_type": "display_data"
    }
   ],
   "source": [
    "import numpy as np\n",
    "import matplotlib.pyplot as plt\n",
    "\n",
    "#loss_list = loss_records[:10000]\n",
    "loss_list = loss_records\n",
    "\n",
    "loss_average = []\n",
    "for i in range(len(loss_list)):\n",
    "    avg_list = np.empty(shape=(1,), dtype=int)\n",
    "    if i < 50:\n",
    "        avg_list = loss_list[:i+1]\n",
    "    else:\n",
    "        avg_list = loss_list[i-49:i+1]\n",
    "    loss_average.append(np.average(avg_list))\n",
    "plt.plot(loss_list)\n",
    "plt.plot(loss_average)"
   ]
  },
  {
   "cell_type": "markdown",
   "metadata": {},
   "source": [
    "## Translate Text\n",
    "\n",
    "Now translate text (French) to English with trained model.<br>\n",
    "Here I simply translate several sentences. (All these sentences are not in training set.)\n",
    "\n",
    "The metrics to evaluate text generation task is not so easy. (Because simply checking an exact match to a reference text is not optimal.)<br>\n",
    "Use some common metrics available in these cases, such as, BLEU or ROUGE.\n",
    "\n",
    "> Note : Here I use greedy search and this will sometimes lead to wrong sequence. For drawbacks and solutions, see note in [this example](./05_language_model_basic.ipynb)."
   ]
  },
  {
   "cell_type": "code",
   "execution_count": 15,
   "metadata": {},
   "outputs": [],
   "source": [
    "import numpy as np\n",
    "\n",
    "def translate(sentence):\n",
    "    # preprocess french\n",
    "    input_text_fr = sentence\n",
    "    input_text_fr = input_text_fr.lower()\n",
    "    input_text_fr = \" \".join([\"[START]\", input_text_fr, \"[END]\"])\n",
    "\n",
    "    text_seq_fr = source_vectorization(input_text_fr)\n",
    "    text_seq_fr = tf.expand_dims(text_seq_fr, axis=0)\n",
    "\n",
    "    # process encoder\n",
    "    enc_outputs = enc_model(text_seq_fr)\n",
    "\n",
    "    # process decoder\n",
    "    vocab_list_en = target_vectorization.get_vocabulary()\n",
    "    states = None\n",
    "    prev_idx_en = target_vectorization(\"[START]\")\n",
    "    end_num_en = target_vectorization(\"[END]\").numpy().tolist()[0]\n",
    "    #text_seq_en = []\n",
    "    #text_seq_en = tf.expand_dims(text_seq_en[len(text_seq_en) - 1], axis=0)\n",
    "    while True:\n",
    "        y, mask, states = dec_model(\n",
    "            (tf.expand_dims(prev_idx_en, axis=0), enc_outputs),\n",
    "            states=states,\n",
    "            return_state=True)\n",
    "        prev_idx_en = np.argmax(y[0][0])\n",
    "        if prev_idx_en.item() == end_num_en:\n",
    "            break\n",
    "        print(vocab_list_en[prev_idx_en.item()], end=\" \")\n",
    "        prev_idx_en = tf.convert_to_tensor([prev_idx_en])\n",
    "    print(\"\\n\")"
   ]
  },
  {
   "cell_type": "code",
   "execution_count": 16,
   "metadata": {},
   "outputs": [
    {
     "name": "stdout",
     "output_type": "stream",
     "text": [
      "i like the guitar \n",
      "\n",
      "he lives in japan \n",
      "\n",
      "this pen is next to his way \n",
      "\n",
      "this is my favorite song \n",
      "\n",
      "he drives a car and a cheap store \n",
      "\n"
     ]
    }
   ],
   "source": [
    "translate(\"j'aime la guitare\") # i like guitar\n",
    "translate(\"il vit au japon\") # he lives in Japan\n",
    "translate(\"ce stylo est utilisé par lui\") # this pen is used by him\n",
    "translate(\"c'est ma chanson préférée\") # that's my favorite song\n",
    "translate(\"il conduit une voiture et va à new york\") # he drives a car and goes to new york"
   ]
  },
  {
   "cell_type": "code",
   "execution_count": null,
   "metadata": {},
   "outputs": [],
   "source": []
  }
 ],
 "metadata": {
  "kernelspec": {
   "display_name": "Python 3",
   "language": "python",
   "name": "python3"
  },
  "language_info": {
   "codemirror_mode": {
    "name": "ipython",
    "version": 3
   },
   "file_extension": ".py",
   "mimetype": "text/x-python",
   "name": "python",
   "nbconvert_exporter": "python",
   "pygments_lexer": "ipython3",
   "version": "3.6.9"
  }
 },
 "nbformat": 4,
 "nbformat_minor": 2
}
