{
 "cells": [
  {
   "cell_type": "markdown",
   "metadata": {},
   "source": [
    "# Machine Translation with Attention\n",
    "\n",
    "In the [previous example](./07_encoder_decoder.ipynb), we saw sequence-to-sequence encoder-decoder architecture in machine translation.<br>\n",
    "In the previous example, the input sequence is encoded into a single context, and this context is used for decoding in all units in generated sequence.\n",
    "\n",
    "This architecture will not be flexible, and also not scalable. For instance, in case of machine translation, it will be difficult to translate a long text (such as, translate multiple sentences at once) unlike human translation. (Because a single context will not be enough to represent entire text, when the text becomes larger.)\n",
    "\n",
    "By introducing attention architecture, this constraint can be relaxed.<br>\n",
    "The attention is more elaborative and widely used architecture in today's NLP, and a lot of tasks (such as, machine translation, smart reply, etc) are researched by adding attention mechanism and worked well today.\n",
    "\n",
    "In the overview outline of attention architecture, the different context can be used in each units in sequence for decoding as follows.\n",
    "\n",
    "![encoder-decoder with attention architecture](./images/encoder_decoder_attention.png)\n",
    "\n",
    "Within attention, first it will generate $\\{ \\alpha_j^i \\}\\;(i=1,\\ldots,n)$, in which $\\sum_i \\alpha_j^i = 1$, with dense net (FCNet) and softmax activation, where $n$ is the number of encoder's outputs and $j$ is time step in sequence. (See the following diagram.)<br>\n",
    "To say in abstraction, $\\{ \\alpha_j^i \\}\\;(i=1,\\ldots,n)$ means an alignment's weight at j-th time step for each source sequence outputs, $o_1^{\\prime}, o_2^{\\prime}, \\ldots, o_n^{\\prime}$.<br>\n",
    "(This $\\{ \\alpha_j^i \\}\\;(i=1,\\ldots,n)$ is then called attention weights.)\n",
    "\n",
    "> Note : See [here](https://tsmatz.wordpress.com/2017/08/30/glm-regression-logistic-poisson-gaussian-gamma-tutorial-with-r/) for softmax function. (It's used for normalizing outputs (sum to one).)\n",
    "\n",
    "And it then generates context $c_j$ at j-th time step by $ c_j = \\sum_i^n \\alpha_j^i \\cdot o_i^{\\prime} $.\n",
    "\n",
    "![soft attention architecture](./images/soft_attention.png)\n",
    "\n",
    "> Note : This architecture is called *soft attention*, which is the first attention introduced in the context of sequence-to-sequence generation. (See Bahdanau et al.)<br>\n",
    "> There exist a lot of variants in attention architecture. See [this post](https://tsmatz.wordpress.com/2021/11/11/reinforcement-learning-visual-attention-in-minecraft/) for self-attention architecture (**transformer**), which is widely used SOTA architecture in a lot of today's NLP tasks.\n",
    "\n",
    "With this network, it can focus on specific components in source sequence.<br>\n",
    "For instance, in case of the following French-to-English machine translation, the 3rd units in sequence (\"don't\" in English) will focus on 3rd and 5th components in original sequence, because the word \"don't\" will strongly focus on the source French \"ne\" and \"pas\". But others (\"je\" or \"comprends\") are also weakly referred, because it's used for determining not \"doesn't\" or not \"isn't\".<br>\n",
    "As a result, the attention weights $\\{ \\alpha_j^i \\}\\;(i=1,\\ldots,n)$ will be large for the source components \"ne\" and \"pas\", and will be small for the source components \"je\" and \"comprends\".\n",
    "\n",
    "![attend in machine translation](./images/attend_image.png)\n",
    "\n",
    "*back to [index](https://github.com/tsmatz/nlp-tutorials/)*"
   ]
  },
  {
   "cell_type": "markdown",
   "metadata": {},
   "source": [
    "## Install required packages"
   ]
  },
  {
   "cell_type": "code",
   "execution_count": null,
   "metadata": {},
   "outputs": [],
   "source": [
    "!pip install tensorflow==2.6.2 numpy nltk matplotlib"
   ]
  },
  {
   "cell_type": "markdown",
   "metadata": {},
   "source": [
    "## Prepare data"
   ]
  },
  {
   "cell_type": "markdown",
   "metadata": {},
   "source": [
    "In this example, I use Engligh-French dataset by [Anki](https://www.manythings.org/anki/)."
   ]
  },
  {
   "cell_type": "code",
   "execution_count": 1,
   "metadata": {},
   "outputs": [
    {
     "name": "stdout",
     "output_type": "stream",
     "text": [
      "--2022-09-06 19:13:30--  http://www.manythings.org/anki/fra-eng.zip\n",
      "Resolving www.manythings.org (www.manythings.org)... 173.254.30.110\n",
      "Connecting to www.manythings.org (www.manythings.org)|173.254.30.110|:80... connected.\n",
      "HTTP request sent, awaiting response... 200 OK\n",
      "Length: 6720195 (6.4M) [application/zip]\n",
      "Saving to: ‘fra-eng.zip’\n",
      "\n",
      "fra-eng.zip         100%[===================>]   6.41M  7.52MB/s    in 0.9s    \n",
      "\n",
      "2022-09-06 19:13:31 (7.52 MB/s) - ‘fra-eng.zip’ saved [6720195/6720195]\n",
      "\n"
     ]
    }
   ],
   "source": [
    "!wget http://www.manythings.org/anki/fra-eng.zip"
   ]
  },
  {
   "cell_type": "code",
   "execution_count": 2,
   "metadata": {},
   "outputs": [
    {
     "name": "stdout",
     "output_type": "stream",
     "text": [
      "Archive:  fra-eng.zip\n",
      "  inflating: fra-eng/_about.txt      \n",
      "  inflating: fra-eng/fra.txt         \n"
     ]
    }
   ],
   "source": [
    "!unzip fra-eng.zip -d fra-eng"
   ]
  },
  {
   "cell_type": "code",
   "execution_count": 3,
   "metadata": {},
   "outputs": [
    {
     "name": "stdout",
     "output_type": "stream",
     "text": [
      "Go.\tVa !\tCC-BY 2.0 (France) Attribution: tatoeba.org #2877272 (CM) & #1158250 (Wittydev)\r\n",
      "Go.\tMarche.\tCC-BY 2.0 (France) Attribution: tatoeba.org #2877272 (CM) & #8090732 (Micsmithel)\r\n",
      "Go.\tEn route !\tCC-BY 2.0 (France) Attribution: tatoeba.org #2877272 (CM) & #8267435 (felix63)\r\n",
      "Go.\tBouge !\tCC-BY 2.0 (France) Attribution: tatoeba.org #2877272 (CM) & #9022935 (Micsmithel)\r\n",
      "Hi.\tSalut !\tCC-BY 2.0 (France) Attribution: tatoeba.org #538123 (CM) & #509819 (Aiji)\r\n"
     ]
    }
   ],
   "source": [
    "!head -n 5 fra-eng/fra.txt"
   ]
  },
  {
   "cell_type": "code",
   "execution_count": 4,
   "metadata": {},
   "outputs": [
    {
     "name": "stdout",
     "output_type": "stream",
     "text": [
      "197463 fra-eng/fra.txt\r\n"
     ]
    }
   ],
   "source": [
    "!wc -l fra-eng/fra.txt"
   ]
  },
  {
   "cell_type": "code",
   "execution_count": 5,
   "metadata": {},
   "outputs": [
    {
     "data": {
      "text/plain": [
       "array(['Va !', 'Go.'], dtype='<U349')"
      ]
     },
     "execution_count": 5,
     "metadata": {},
     "output_type": "execute_result"
    }
   ],
   "source": [
    "from pathlib import Path\n",
    "import numpy as np\n",
    "\n",
    "pathobj = Path(\"fra-eng/fra.txt\")\n",
    "text_all = pathobj.read_text(encoding=\"utf-8\")\n",
    "lines = text_all.splitlines()\n",
    "train_data = [line.split(\"\\t\") for line in lines]\n",
    "train_data = np.array(train_data)[:,[1,0]]\n",
    "# print first row\n",
    "train_data[0]"
   ]
  },
  {
   "cell_type": "markdown",
   "metadata": {},
   "source": [
    "In this training set, text length in the latter part is longer (and includes multiple sentences) than the former part.<br>\n",
    "Therefore I shuffle entire data."
   ]
  },
  {
   "cell_type": "code",
   "execution_count": 6,
   "metadata": {},
   "outputs": [
    {
     "data": {
      "text/plain": [
       "array(['Quoi que vous fassiez, ne tirez pas sur cette corde !',\n",
       "       \"Whatever you do, don't pull this rope.\"], dtype='<U349')"
      ]
     },
     "execution_count": 6,
     "metadata": {},
     "output_type": "execute_result"
    }
   ],
   "source": [
    "np.random.shuffle(train_data)\n",
    "train_data[0]"
   ]
  },
  {
   "cell_type": "markdown",
   "metadata": {},
   "source": [
    "When data consists of multiple sentences, it converts to a single sentence."
   ]
  },
  {
   "cell_type": "code",
   "execution_count": 7,
   "metadata": {},
   "outputs": [
    {
     "name": "stderr",
     "output_type": "stream",
     "text": [
      "[nltk_data] Downloading package punkt to /home/tsmatsuz/nltk_data...\n",
      "[nltk_data]   Package punkt is already up-to-date!\n"
     ]
    }
   ],
   "source": [
    "import nltk\n",
    "import nltk.data\n",
    "\n",
    "nltk.download(\"punkt\")\n",
    "tokenizer_en = nltk.data.load(\"tokenizers/punkt/english.pickle\")\n",
    "tokenizer_fr = nltk.data.load(\"tokenizers/punkt/french.pickle\")\n",
    "fr_list = []\n",
    "en_list = []\n",
    "for x in train_data:\n",
    "    x1 = tokenizer_fr.tokenize(x[0])\n",
    "    x2 = tokenizer_en.tokenize(x[1])\n",
    "    if len(x1) == len(x2):\n",
    "        fr_list += x1\n",
    "        en_list += x2\n",
    "train_data = np.column_stack((fr_list, en_list))"
   ]
  },
  {
   "cell_type": "markdown",
   "metadata": {},
   "source": [
    "To get the better performance (accuracy), I standarize the input text as follows.\n",
    "- Make all words to lowercase in order to reduce words\n",
    "- Make \"-\" (hyphen) to space\n",
    "- Remove all punctuation except \" ' \" (e.g, Ken's bag, ces't, ...)\n",
    "\n",
    "> Note : To make simplify, I have skipped other pre-processing, such as, N-gram detection (see [this exercise](./05_ngram_cnn.ipynb)), polysemy processing, etc."
   ]
  },
  {
   "cell_type": "code",
   "execution_count": 8,
   "metadata": {},
   "outputs": [
    {
     "data": {
      "text/plain": [
       "array(['quoi que vous fassiez ne tirez pas sur cette corde',\n",
       "       \"whatever you do don't pull this rope\"], dtype='<U250')"
      ]
     },
     "execution_count": 8,
     "metadata": {},
     "output_type": "execute_result"
    }
   ],
   "source": [
    "import string\n",
    "\n",
    "train_data = np.char.lower(train_data)\n",
    "train_data = np.char.replace(train_data, \"-\", \" \")\n",
    "for x in string.punctuation.replace(\"'\", \"\"):\n",
    "    train_data = np.char.replace(train_data, x, \"\")\n",
    "for x in \"«»\":\n",
    "    train_data = np.char.replace(train_data, x, \"\")\n",
    "train_data = np.char.strip(train_data)\n",
    "# print first row\n",
    "train_data[0]"
   ]
  },
  {
   "cell_type": "markdown",
   "metadata": {},
   "source": [
    "Add ```[START]``` and ```[END]``` tokens in string."
   ]
  },
  {
   "cell_type": "code",
   "execution_count": 9,
   "metadata": {},
   "outputs": [
    {
     "data": {
      "text/plain": [
       "array(['[START] quoi que vous fassiez ne tirez pas sur cette corde [END]',\n",
       "       \"[START] whatever you do don't pull this rope [END]\"],\n",
       "      dtype='<U264')"
      ]
     },
     "execution_count": 9,
     "metadata": {},
     "output_type": "execute_result"
    }
   ],
   "source": [
    "train_data = np.array([[\" \".join([\"[START]\", x, \"[END]\"]), \" \".join([\"[START]\", y, \"[END]\"])] for x, y in train_data])\n",
    "# print first row\n",
    "train_data[0]"
   ]
  },
  {
   "cell_type": "markdown",
   "metadata": {},
   "source": [
    "## Generate sequence inputs\n",
    "\n",
    "We will generate the sequence of word's indices (i.e, tokenize) from text.\n",
    "\n",
    "![Index vectorize](images/index_vectorize2.png?raw=true)\n",
    "\n",
    "First, we build word's vectorizer for both source text (French) and target text (English)."
   ]
  },
  {
   "cell_type": "code",
   "execution_count": 10,
   "metadata": {},
   "outputs": [],
   "source": [
    "import tensorflow as tf\n",
    "\n",
    "max_word = 10000\n",
    "\n",
    "source_vectorization = tf.keras.layers.TextVectorization(\n",
    "    max_tokens=max_word,\n",
    "    output_sequence_length=None, # maximum length of sequences\n",
    "    output_mode=\"int\")\n",
    "source_vectorization.adapt(train_data[:,0])\n",
    "\n",
    "target_vectorization = tf.keras.layers.TextVectorization(\n",
    "    max_tokens=max_word,\n",
    "    output_sequence_length=None, # maximum length of sequences\n",
    "    output_mode=\"int\")\n",
    "target_vectorization.adapt(train_data[:,1])"
   ]
  },
  {
   "cell_type": "markdown",
   "metadata": {},
   "source": [
    "Now we vectorize sentence into integer's sequence as follows.<br>\n",
    "In this example, we create fixed size of sequence (padded by 0) in each row.\n",
    "\n",
    "![Index vectorize](images/index_vectorize2.png?raw=true)"
   ]
  },
  {
   "cell_type": "code",
   "execution_count": 11,
   "metadata": {},
   "outputs": [
    {
     "name": "stdout",
     "output_type": "stream",
     "text": [
      "tf.Tensor(\n",
      "[   3  117    8    7 1674   10 4527    6   63   54 1426    2    0    0\n",
      "    0    0    0    0    0    0    0    0    0    0    0    0    0    0\n",
      "    0    0    0    0    0    0    0    0    0    0    0    0    0    0\n",
      "    0    0    0], shape=(45,), dtype=int64)\n",
      "tf.Tensor(\n",
      "[   2  759    5   12   19 1428   16 1295    3    0    0    0    0    0\n",
      "    0    0    0    0    0    0    0    0    0    0    0    0    0    0\n",
      "    0    0    0    0    0    0    0    0    0    0], shape=(38,), dtype=int64)\n"
     ]
    }
   ],
   "source": [
    "train_source = source_vectorization(train_data[:,0])\n",
    "train_target = target_vectorization(train_data[:,1])\n",
    "# print first row\n",
    "print(train_source[0])\n",
    "print(train_target[0])"
   ]
  },
  {
   "cell_type": "markdown",
   "metadata": {},
   "source": [
    "Make TensorFlow dataset."
   ]
  },
  {
   "cell_type": "code",
   "execution_count": 12,
   "metadata": {},
   "outputs": [],
   "source": [
    "train_tf_data = tf.data.Dataset.from_tensor_slices((train_source, train_target))"
   ]
  },
  {
   "cell_type": "markdown",
   "metadata": {},
   "source": [
    "Now we generate label (y) for training.\n",
    "\n",
    "As I have mentioned above, we should finally predict the next word in target sentence (English) using current word and encoded context.<br>\n",
    "We then create the following label (y) in each row.\n",
    "\n",
    "<u>input - list of current words</u> :\n",
    "```\n",
    "[2, 7, 5, 3, 0, ... , 0]\n",
    "```\n",
    "\n",
    "<u>output (y) - list of next words</u> :\n",
    "```\n",
    "[7, 5, 3, 0, 0, ... , 0]\n",
    "```"
   ]
  },
  {
   "cell_type": "code",
   "execution_count": 13,
   "metadata": {},
   "outputs": [
    {
     "name": "stdout",
     "output_type": "stream",
     "text": [
      "***** X *****\n",
      "(<tf.Tensor: shape=(45,), dtype=int64, numpy=\n",
      "array([   3,  117,    8,    7, 1674,   10, 4527,    6,   63,   54, 1426,\n",
      "          2,    0,    0,    0,    0,    0,    0,    0,    0,    0,    0,\n",
      "          0,    0,    0,    0,    0,    0,    0,    0,    0,    0,    0,\n",
      "          0,    0,    0,    0,    0,    0,    0,    0,    0,    0,    0,\n",
      "          0])>, <tf.Tensor: shape=(38,), dtype=int64, numpy=\n",
      "array([   2,  759,    5,   12,   19, 1428,   16, 1295,    3,    0,    0,\n",
      "          0,    0,    0,    0,    0,    0,    0,    0,    0,    0,    0,\n",
      "          0,    0,    0,    0,    0,    0,    0,    0,    0,    0,    0,\n",
      "          0,    0,    0,    0,    0])>)\n",
      "***** y *****\n",
      "tf.Tensor(\n",
      "[ 759    5   12   19 1428   16 1295    3    0    0    0    0    0    0\n",
      "    0    0    0    0    0    0    0    0    0    0    0    0    0    0\n",
      "    0    0    0    0    0    0    0    0    0    0], shape=(38,), dtype=int64)\n"
     ]
    }
   ],
   "source": [
    "def add_label(x_source, x_target):\n",
    "    y = tf.slice(x_target, begin=[1], size=[len(x_target) - 1])\n",
    "    y = tf.concat([y, [0]], axis=0)\n",
    "    return (x_source, x_target), y\n",
    "train_tf_data = train_tf_data.map(lambda src, tar: add_label(src, tar))\n",
    "# print first row\n",
    "for x, y in train_tf_data.take(1):\n",
    "    print(\"***** X *****\")\n",
    "    print(x)\n",
    "    print(\"***** y *****\")\n",
    "    print(y)"
   ]
  },
  {
   "cell_type": "markdown",
   "metadata": {},
   "source": [
    "Now we convert label y into one-hot vector (shape (max_word,)).\n",
    "\n",
    "y (before) :\n",
    "```\n",
    "[4, 1, 3, 0]\n",
    "```\n",
    "\n",
    "y (after) :\n",
    "```\n",
    "[\n",
    "  [0,0,0,0,1, ... ,0],\n",
    "  [0,1,0,0,0, ... ,0],\n",
    "  [0,0,0,1,0, ... ,0],\n",
    "  [1,0,0,0,0, ... ,0]\n",
    "]\n",
    "```"
   ]
  },
  {
   "cell_type": "code",
   "execution_count": 14,
   "metadata": {},
   "outputs": [
    {
     "name": "stdout",
     "output_type": "stream",
     "text": [
      "tf.Tensor(\n",
      "[[0. 0. 0. ... 0. 0. 0.]\n",
      " [0. 0. 0. ... 0. 0. 0.]\n",
      " [0. 0. 0. ... 0. 0. 0.]\n",
      " ...\n",
      " [1. 0. 0. ... 0. 0. 0.]\n",
      " [1. 0. 0. ... 0. 0. 0.]\n",
      " [1. 0. 0. ... 0. 0. 0.]], shape=(38, 10000), dtype=float32)\n"
     ]
    }
   ],
   "source": [
    "def to_one_hot(x, y):\n",
    "    y_new = tf.one_hot(y, depth=max_word)\n",
    "    return x, y_new\n",
    "train_tf_data = train_tf_data.map(lambda x, y: to_one_hot(x, y))\n",
    "# print y in first row\n",
    "for x, y in train_tf_data.take(1):\n",
    "    print(y)"
   ]
  },
  {
   "cell_type": "markdown",
   "metadata": {},
   "source": [
    "## Train with Encoder-Decoder\n",
    "\n",
    "Now we build an attention model in encoder-decoder architecture as follows.\n",
    "\n",
    "- Outputs in RNN (for source text) are generated in encoder.\n",
    "- Encoder's outputs are used in attention architecture and passed into each unit in decoder's RNN.\n",
    "- Each RNN output in decoder is passed into dense (FCNet) layer and generate the sequence of next words.\n",
    "- Calculate loss between predicted next words and the true values of next words, and then proceed to train.\n",
    "\n",
    "![the trainer architecture of machine translation](./images/machine_translation2.png)"
   ]
  },
  {
   "cell_type": "markdown",
   "metadata": {},
   "source": [
    "First, we build encoder model.\n",
    "\n",
    "In the following ```tf.keras.layers.GRU``` layer, the shape of RNN input is expected to be ```(batch_size, sequence_length, input_dimension)```. By setting ```stateful=True```, the last state at index i in batch is used as initial state for index i in the following batch.<br>\n",
    "Here we then set ```stateful=False```. (Because the sequence in the following batch doesn't depend on the sequence in previous batch.)\n",
    "\n",
    "Unlike [previous example](./07_encoder_decoder.ipynb), all outputs in sequence is used in the next model, and it should then return all outputs (not only the last output).<br>\n",
    "Therefore I set ```return_sequences=True``` in RNN (GRU layer).\n",
    "\n",
    "![all outputs in encoder](./images/encoder_all.png)\n",
    "\n",
    "Remind that the length of each sequence differs in each row and it's padded by zero.<br>\n",
    "Therefore, here I create mask, in which, the element is TRUE when it exists and FALSE when it's missing.<br>\n",
    "By passing mask into RNN, the computation will be skipped in FALSE elements.\n",
    "\n",
    "> Note : You can also set encoder's final state as decoder's initial state.<br>\n",
    "> In this example, I'll discard encoder's final state in the model."
   ]
  },
  {
   "cell_type": "code",
   "execution_count": 15,
   "metadata": {},
   "outputs": [],
   "source": [
    "class Encoder(tf.keras.Model):\n",
    "    def __init__(self, vocab_size, embedding_dim, rnn_units):\n",
    "        super().__init__(self)\n",
    "        self.vocab_size = vocab_size\n",
    "\n",
    "        self.embedding = tf.keras.layers.Embedding(\n",
    "            self.vocab_size,\n",
    "            embedding_dim,\n",
    "            mask_zero=True,\n",
    "            trainable=True,\n",
    "        )\n",
    "        self.rnn = tf.keras.layers.GRU(\n",
    "            rnn_units,\n",
    "            use_bias=True,\n",
    "            return_sequences=True,  # see above !\n",
    "            return_state=True,\n",
    "            stateful=False,  # not to inherit states between batches\n",
    "            trainable=True,\n",
    "        )\n",
    "\n",
    "    def call(self, inputs, states=None, training=False, return_state=False):\n",
    "        inputs_emb = self.embedding(inputs, training=training)\n",
    "        mask = self.embedding.compute_mask(inputs)\n",
    "        if states is None:\n",
    "            outputs, new_states = self.rnn(inputs_emb, mask=mask, training=training)\n",
    "        else:\n",
    "            outputs, new_states = self.rnn(inputs_emb, mask=mask, initial_state=states, training=training)\n",
    "        if return_state:\n",
    "            return outputs, new_states  # This is used in prediction\n",
    "        else:\n",
    "            return outputs              # This is used in training"
   ]
  },
  {
   "cell_type": "markdown",
   "metadata": {},
   "source": [
    "Now we build decoder with attention architecture as follows. (The following variable ```alpha``` is attention weights at ```j```-th step.)\n",
    "\n",
    "As I have mentioned above, decoder receives encoder's outputs (outputs for all components in sequence), and this is commonly used in all steps in target sequence.\n",
    "\n",
    "In each steps in target RNN sequence, the state in previous step is used in attention layer. For the purpose of your learning, here I manually implement this loop of RNN steps from scratch as follows. (See the following ```for``` loop in attention process.)<br>\n",
    "However, you can use your custom RNN cell (one step cell in RNN) or use ```tfa.seq2seq.AttentionWrapper``` with ```tf.keras.layers.GRUCell``` to build this kind of RNN steps with attention in TensorFlow.\n",
    "\n",
    "The softmax operation should be masked in attention layer.\n",
    "\n",
    "![decoder with attention](./images/decoder_attention.png)"
   ]
  },
  {
   "cell_type": "code",
   "execution_count": 16,
   "metadata": {},
   "outputs": [],
   "source": [
    "class DecoderWithAttention(tf.keras.Model):\n",
    "    def __init__(self, vocab_size, embedding_dim, rnn_units):\n",
    "        super().__init__(self)\n",
    "        self.vocab_size = vocab_size\n",
    "\n",
    "        self.embedding = tf.keras.layers.Embedding(\n",
    "            self.vocab_size,\n",
    "            embedding_dim,\n",
    "            mask_zero=True,\n",
    "            trainable=True,\n",
    "        )\n",
    "        self.attention_dense1 = tf.keras.layers.Dense(\n",
    "            rnn_units,\n",
    "            activation=\"relu\",\n",
    "        )\n",
    "        self.attention_dense2 = tf.keras.layers.Dense(\n",
    "            1,\n",
    "            activation=None,\n",
    "        )\n",
    "        self.softmax = tf.keras.layers.Softmax(\n",
    "            axis=-1\n",
    "        )\n",
    "        self.rnn = tf.keras.layers.GRU(\n",
    "            rnn_units,\n",
    "            use_bias=True,\n",
    "            return_sequences=False,\n",
    "            return_state=True,\n",
    "            stateful=False,  # not to inherit states between batches\n",
    "            trainable=True,\n",
    "        )\n",
    "        self.output_dense1 = tf.keras.layers.Dense(\n",
    "            rnn_units,\n",
    "            activation=\"relu\",\n",
    "        )\n",
    "        self.output_dense2 = tf.keras.layers.Dense(\n",
    "            self.vocab_size,\n",
    "            activation=None,\n",
    "        )\n",
    "\n",
    "    def call(self, inputs, states=None, training=False, return_state=False):\n",
    "        inputs_target, enc_outputs = inputs\n",
    "\n",
    "        #\n",
    "        # get batch size and sequence size\n",
    "        #\n",
    "        batch_size = tf.shape(inputs_target)[0]\n",
    "        dec_sequence_size = tf.shape(inputs_target)[1]\n",
    "        enc_sequence_size = tf.shape(enc_outputs)[1]\n",
    "        mask = self.embedding.compute_mask(inputs_target)\n",
    "\n",
    "        #\n",
    "        # process embedding\n",
    "        #\n",
    "        inputs_emb = self.embedding(inputs_target, training=training) # shape: (batch_size, dec_sequence_size, embedding_dim)\n",
    "\n",
    "        #\n",
    "        # process attention\n",
    "        # (You can also use built-in tf.keras.layers.AdditiveAttention.)\n",
    "        #\n",
    "\n",
    "        # set initial state\n",
    "        if states is None:\n",
    "            current_states = tf.zeros([batch_size, rnn_units]) # you can also use self.rnn.get_initial_state(...)\n",
    "        else:\n",
    "            current_states = states\n",
    "        # loop sequence\n",
    "        rnn_outputs = []\n",
    "        for j in range(dec_sequence_size):\n",
    "            states_fill_sequence = tf.expand_dims(current_states, axis=1) # shape : (batch_size, 1, rnn_units)\n",
    "            states_fill_sequence = tf.tile(states_fill_sequence, multiples=[1,enc_sequence_size,1]) # shape : (batch_size, enc_sequence_size, rnn_units)\n",
    "            enc_and_states = tf.concat([states_fill_sequence, enc_outputs], axis=-1) # shape : (batch_size, enc_sequence_size, rnn_units * 2)\n",
    "            alpha = self.attention_dense1(enc_and_states, training=training) # shape : (batch_size, enc_sequence_size, rnn_units)\n",
    "            alpha = self.attention_dense2(alpha, training=training) # shape : (batch_size, enc_sequence_size, 1)\n",
    "            alpha = tf.squeeze(alpha, axis=2) # shape : (batch_size, enc_sequence_size)\n",
    "            ### use masking !\n",
    "            # alpha = tf.nn.softmax(alpha, axis=-1) # shape: (batch_size, enc_sequence_size)\n",
    "            attention_mask = enc_outputs._keras_mask\n",
    "            attention_mask = tf.cast(attention_mask, tf.float32) # True -> 1.0, False -> 0.0\n",
    "            alpha = self.softmax(alpha, attention_mask) # shape: (batch_size, enc_sequence_size)\n",
    "            c = tf.einsum(\"bs,bsu->bu\", alpha, enc_outputs) # shape: (batch_size, rnn_units)\n",
    "            emb_j = inputs_emb[:,j,:] # shape: (batch_size, embedding_dim)\n",
    "            input_j = tf.concat([c, emb_j], axis=-1) # shape: (batch_size, rnn_units + embedding_dim)\n",
    "            input_j = tf.expand_dims(input_j, axis=1) # shape: (batch_size, 1, rnn_units + embedding_dim)\n",
    "            mask_j = tf.expand_dims(mask[:,j], axis=1)\n",
    "            rnn_o, current_states = self.rnn(input_j, mask=mask_j, initial_state=current_states, training=training) # shape: (batch_size, rnn_units)\n",
    "            rnn_outputs.append(rnn_o)\n",
    "        rnn_outputs = tf.stack(rnn_outputs, axis=1) # shape: (batch_size, dec_sequence_size, rnn_units)\n",
    "\n",
    "        #\n",
    "        # process vocab outputs\n",
    "        #\n",
    "        outputs = self.output_dense1(rnn_outputs, training=training)\n",
    "        outputs = self.output_dense2(outputs, training=training)\n",
    "\n",
    "        if return_state:\n",
    "            return outputs, mask, current_states  # This is used in prediction\n",
    "        else:\n",
    "            return outputs, mask                  # This is used in training"
   ]
  },
  {
   "cell_type": "markdown",
   "metadata": {},
   "source": [
    "Now we put it all together and run training.\n",
    "\n",
    "I note that the loss computation is also masked. (i.e, The loss is ignored in missing elements.)\n",
    "\n",
    "> Note : In the following example, I'm writing a training loop from scratch, but you can also build TensorFlow custom model for this implementation."
   ]
  },
  {
   "cell_type": "code",
   "execution_count": 17,
   "metadata": {},
   "outputs": [
    {
     "name": "stdout",
     "output_type": "stream",
     "text": [
      "Epoch 1/5 - loss   0.399578\n",
      "Epoch 2/5 - loss   0.463912\n",
      "Epoch 3/5 - loss   1.458908\n",
      "Epoch 4/5 - loss   0.642533\n",
      "Epoch 5/5 - loss   0.115093\n"
     ]
    }
   ],
   "source": [
    "embedding_dim = 256\n",
    "rnn_units = 1024\n",
    "n_epoch = 5\n",
    "shuffle_buffer_size = 5000\n",
    "train_batch_size = 64\n",
    "loss_records = []\n",
    "\n",
    "enc_model = Encoder(\n",
    "    vocab_size=max_word,\n",
    "    embedding_dim=embedding_dim,\n",
    "    rnn_units=rnn_units)\n",
    "dec_model = DecoderWithAttention(\n",
    "    vocab_size=max_word,\n",
    "    embedding_dim=embedding_dim,\n",
    "    rnn_units=rnn_units)\n",
    "loss_func = tf.keras.losses.CategoricalCrossentropy(\n",
    "    from_logits=True,\n",
    "    reduction=tf.keras.losses.Reduction.NONE\n",
    ")\n",
    "opt = tf.keras.optimizers.Adam(learning_rate=0.001)\n",
    "\n",
    "### I don't use train_tf_data.repeat(n_epoch) and run shuffle in each epoch,\n",
    "### because I want to check result in each epoch\n",
    "for epoch in range(n_epoch):\n",
    "    tf_data_epoch = train_tf_data.shuffle(shuffle_buffer_size).batch(train_batch_size)\n",
    "    iterator = iter(tf_data_epoch)\n",
    "    while True:\n",
    "        with tf.GradientTape() as enc_tape, tf.GradientTape() as dec_tape:\n",
    "            # get next batch\n",
    "            try:\n",
    "                input_batch_x, input_batch_y = iterator.get_next()\n",
    "            except tf.errors.OutOfRangeError:\n",
    "                loop_f = False\n",
    "                break\n",
    "            input_source, input_target = input_batch_x\n",
    "            # process encoder\n",
    "            enc_outputs = enc_model(\n",
    "                input_source,\n",
    "                training=True)\n",
    "            # process decoder\n",
    "            logits, mask = dec_model(\n",
    "                (input_target , enc_outputs),\n",
    "                training=True)\n",
    "            # calculate masked loss\n",
    "            loss = loss_func(\n",
    "                input_batch_y,\n",
    "                logits) # shape of loss is (batch_size, sequence_size)\n",
    "            mask_float = tf.cast(mask, tf.float32) # True -> 1.0, False -> 0.0\n",
    "            loss = loss * mask_float\n",
    "            loss = tf.math.reduce_sum(loss, axis=1) # shape of loss is (batch_size, )\n",
    "            loss = loss / tf.math.reduce_sum(mask_float, axis=1)\n",
    "            # get gradient\n",
    "            grad = enc_tape.gradient(\n",
    "                loss,\n",
    "                enc_model.trainable_variables+dec_model.trainable_variables\n",
    "            )\n",
    "        # apply gradient\n",
    "        opt.apply_gradients(zip(grad, enc_model.trainable_variables+dec_model.trainable_variables))\n",
    "        # record result\n",
    "        batch_average_loss = tf.math.reduce_mean(loss).numpy().tolist()\n",
    "        print(\"Epoch {}/{} - loss {loss:10.6f}\".format(epoch+1, n_epoch, loss=batch_average_loss), end=\"\\r\")\n",
    "        loss_records.append(batch_average_loss)\n",
    "    # add line break\n",
    "    print(\"\")"
   ]
  },
  {
   "cell_type": "markdown",
   "metadata": {},
   "source": [
    "After the training has completed, show how loss is optimized."
   ]
  },
  {
   "cell_type": "code",
   "execution_count": 18,
   "metadata": {},
   "outputs": [
    {
     "data": {
      "text/plain": [
       "[<matplotlib.lines.Line2D at 0x7f3230ff6400>]"
      ]
     },
     "execution_count": 18,
     "metadata": {},
     "output_type": "execute_result"
    },
    {
     "data": {
      "image/png": "[encoded data removed]",
      "text/plain": [
       "<Figure size 432x288 with 1 Axes>"
      ]
     },
     "metadata": {
      "needs_background": "light"
     },
     "output_type": "display_data"
    }
   ],
   "source": [
    "import numpy as np\n",
    "import matplotlib.pyplot as plt\n",
    "\n",
    "#loss_list = loss_records[:10000]\n",
    "loss_list = loss_records\n",
    "\n",
    "loss_average = []\n",
    "for i in range(len(loss_list)):\n",
    "    avg_list = np.empty(shape=(1,), dtype=int)\n",
    "    if i < 50:\n",
    "        avg_list = loss_list[:i+1]\n",
    "    else:\n",
    "        avg_list = loss_list[i-49:i+1]\n",
    "    loss_average.append(np.average(avg_list))\n",
    "plt.plot(loss_list)\n",
    "plt.plot(loss_average)"
   ]
  },
  {
   "cell_type": "markdown",
   "metadata": {},
   "source": [
    "## Translate Text\n",
    "\n",
    "Now translate text (French) to English with trained model.<br>\n",
    "(All these sentences are not in training set.)"
   ]
  },
  {
   "cell_type": "code",
   "execution_count": 19,
   "metadata": {},
   "outputs": [],
   "source": [
    "import numpy as np\n",
    "\n",
    "def translate(sentence):\n",
    "    # preprocess french\n",
    "    input_text_fr = sentence\n",
    "    input_text_fr = input_text_fr.lower()\n",
    "    input_text_fr = \" \".join([\"[START]\", input_text_fr, \"[END]\"])\n",
    "\n",
    "    text_seq_fr = source_vectorization(input_text_fr)\n",
    "    text_seq_fr = tf.expand_dims(text_seq_fr, axis=0)\n",
    "\n",
    "    # process encoder\n",
    "    enc_outputs = enc_model(text_seq_fr)\n",
    "\n",
    "    # process decoder\n",
    "    vocab_list_en = target_vectorization.get_vocabulary()\n",
    "    states = None\n",
    "    prev_idx_en = target_vectorization(\"[START]\")\n",
    "    end_num_en = target_vectorization(\"[END]\").numpy().tolist()[0]\n",
    "    #text_seq_en = []\n",
    "    #text_seq_en = tf.expand_dims(text_seq_en[len(text_seq_en) - 1], axis=0)\n",
    "    while True:\n",
    "        y, mask, states = dec_model(\n",
    "            (tf.expand_dims(prev_idx_en, axis=0), enc_outputs),\n",
    "            states=states,\n",
    "            return_state=True)\n",
    "        prev_idx_en = np.argmax(y[0])\n",
    "        if prev_idx_en.item() == end_num_en:\n",
    "            break\n",
    "        print(vocab_list_en[prev_idx_en.item()], end=\" \")\n",
    "        prev_idx_en = tf.convert_to_tensor([prev_idx_en])\n",
    "    print(\"\\n\")"
   ]
  },
  {
   "cell_type": "code",
   "execution_count": 20,
   "metadata": {},
   "outputs": [
    {
     "name": "stdout",
     "output_type": "stream",
     "text": [
      "i like the guitar \n",
      "\n",
      "he lives in japan \n",
      "\n",
      "this pen is used by him \n",
      "\n",
      "this is my favorite song \n",
      "\n",
      "he drives a car and goes to new york \n",
      "\n"
     ]
    }
   ],
   "source": [
    "translate(\"j'aime la guitare\") # i like guitar\n",
    "translate(\"il vit au japon\") # he lives in Japan\n",
    "translate(\"ce stylo est utilisé par lui\") # this pen is used by him\n",
    "translate(\"c'est ma chanson préférée\") # that's my favorite song\n",
    "translate(\"il conduit une voiture et va à new york\") # he drives a car and goes to new york"
   ]
  },
  {
   "cell_type": "code",
   "execution_count": null,
   "metadata": {},
   "outputs": [],
   "source": []
  }
 ],
 "metadata": {
  "kernelspec": {
   "display_name": "Python 3",
   "language": "python",
   "name": "python3"
  },
  "language_info": {
   "codemirror_mode": {
    "name": "ipython",
    "version": 3
   },
   "file_extension": ".py",
   "mimetype": "text/x-python",
   "name": "python",
   "nbconvert_exporter": "python",
   "pygments_lexer": "ipython3",
   "version": "3.6.9"
  }
 },
 "nbformat": 4,
 "nbformat_minor": 2
}
